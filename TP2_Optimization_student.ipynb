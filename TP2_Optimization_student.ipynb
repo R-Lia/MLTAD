{
 "cells": [
  {
   "cell_type": "markdown",
   "metadata": {},
   "source": [
    "<img\n",
    "src=\"https://www.imt-atlantique.fr/sites/default/files/Images/Ecole/charte-graphique/IMT_Atlantique_logo_RVB_Baseline_400x272.jpg\"\n",
    "WIDTH=200 HEIGHT=200>\n",
    "\n",
    "<CENTER>\n",
    "</br>\n",
    "<p><font size=\"5\"> TAF OPE - 2019</span></p>\n",
    "<p><font size=\"4\">  UE Machine Learning and advanced processing methods for multi-sensor data  </font></p>\n",
    "<p></p>\n",
    "<p><font size=\"5\">  Notebook 02: Python lab - Optimization </font></p>\n",
    "</p></br>\n",
    "</p>\n",
    "</CENTER>"
   ]
  },
  {
   "cell_type": "markdown",
   "metadata": {},
   "source": [
    "# <span style=\"color:#00B8DE\"> 1. Unconstrained optimization</span>\n",
    "Let consider function $f(x) = \\frac{1}{2} x^\\top A x + x^\\top b$ where $A = [1,0; 0,4]$ and $b = [1,1]$"
   ]
  },
  {
   "cell_type": "code",
   "execution_count": 2,
   "metadata": {},
   "outputs": [],
   "source": [
    "import numpy as np\n",
    "from matplotlib import pyplot as plt"
   ]
  },
  {
   "cell_type": "markdown",
   "metadata": {},
   "source": [
    "#### Question 1: Define this function ant its gradient "
   ]
  },
  {
   "cell_type": "code",
   "execution_count": 3,
   "metadata": {},
   "outputs": [],
   "source": [
    "\"\"\"\n",
    "define the cost function \n",
    "f(A,b,x) = 0.5 * x' A x + x'b\n",
    "\"\"\"\n",
    "\n",
    "def f(A, b, x):\n",
    "    return (0.5 * x.T@A@x + x.T@b)\n",
    "\n",
    "\"\"\"\n",
    "define the gradient function \n",
    "df(A,b,x) = Ax + b \n",
    "\"\"\" \n",
    "\n",
    "def df(A,b,x):\n",
    "    return(A@x + b )\n"
   ]
  },
  {
   "cell_type": "markdown",
   "metadata": {},
   "source": [
    "#### Question 2: Visualize this function on the square with vertices (±5,±5) (use confour function from matplotlib)"
   ]
  },
  {
   "cell_type": "code",
   "execution_count": 36,
   "metadata": {},
   "outputs": [
    {
     "data": {
      "text/plain": [
       "<matplotlib.collections.PathCollection at 0x7fd62e9a8130>"
      ]
     },
     "execution_count": 36,
     "metadata": {},
     "output_type": "execute_result"
    },
    {
     "data": {
      "image/png": "[encoded data removed]",
      "text/plain": [
       "<Figure size 432x288 with 1 Axes>"
      ]
     },
     "metadata": {
      "needs_background": "light"
     },
     "output_type": "display_data"
    }
   ],
   "source": [
    "#  Contour plots (sometimes called Level Plots) are a way to show a three-dimensional surface on a two-dimensional \n",
    "# plane. It graphs two predictor variables X Y on the y-axis and a response variable Z as contours.  \n",
    "# These contours are sometimes called the z-slices or the iso-response values.\n",
    "# A contour plot is appropriate if you want to see how value Z changes as a function of two inputs X and Y, \n",
    "# such that Z = f(X,Y). A contour line or isoline of a function of two variables is a curve along which \n",
    "# the function has a constant value.The independent variables x and y are usually restricted \n",
    "# to a regular grid called meshgrid. The numpy.meshgrid creates a rectangular grid out of an array of x \n",
    "# values and an array of y values.\n",
    "\n",
    "n = 100\n",
    "\n",
    "A = np.array([[1,0],[0,4]])\n",
    "b =  np.array([1,1])\n",
    "x = np.arange(-5, 6, 1)\n",
    "\n",
    "X, Y = np.meshgrid(x,x)\n",
    "\n",
    "n=len(X)\n",
    "Z=np.zeros((n,n))\n",
    "\n",
    "for i in range(n):\n",
    "    for j in range(n):\n",
    "        Z[i][j]= f(A,b,np.array([X[i][j],Y[i][j]]))\n",
    "\n",
    "\n",
    "opt = -np.dot(np.linalg.inv(A), b) # optimal point\n",
    "\n",
    "\n",
    "plt.figure()\n",
    "plt.contour(X,Y,Z)\n",
    "plt.scatter(opt[0], opt[1])"
   ]
  },
  {
   "cell_type": "markdown",
   "metadata": {},
   "source": [
    "## <span style=\"color:#00B8DE\"> 1.1 Gradient algorithm </span>\n",
    "> #### Input:  Set $\\text{maxIter} = 10^4, \\text{stop} = 1e-5, x_0, \\gamma_k$ \n",
    "> #### Iterations: \n",
    ">> $\\text{For } k = 0, 1, \\ldots, \\text{maxIter}$ <br> \n",
    ">>> $x_{k+1} = x_k - \\gamma_k \\nabla f(x_k)$  <br> \n",
    ">>> $\\text{If } \\|x_{k+1} - x_k\\| < \\text{stop}$\n",
    ">>>> nbIter = $k$ <br>\n",
    ">>>> break\n",
    "> #### Output: $ \\hat{x} = x_{k+1}$"
   ]
  },
  {
   "cell_type": "markdown",
   "metadata": {},
   "source": [
    "#### Question 3: Implement gradient algorithm to minimize $f(x)$ and show the results"
   ]
  },
  {
   "cell_type": "code",
   "execution_count": 5,
   "metadata": {},
   "outputs": [
    {
     "data": {
      "text/plain": [
       "array([[ 0.        ,  0.        ],\n",
       "       [-0.01      , -0.01      ],\n",
       "       [-0.0199    , -0.0196    ],\n",
       "       ...,\n",
       "       [-0.99899682, -0.25      ],\n",
       "       [-0.99900685, -0.25      ],\n",
       "       [-0.99901678, -0.25      ]])"
      ]
     },
     "execution_count": 5,
     "metadata": {},
     "output_type": "execute_result"
    }
   ],
   "source": [
    "# Gradient algorithm \n",
    "\n",
    "def gradient_algo(f, df, A, b, init = np.array([0,0]) , stop_crit =1.e-5, max_iter = 10e4, xopt=opt, gamma = .01):\n",
    "# Constant stepsize\n",
    "    x         = init\n",
    "    nbLoops   = 0 # number of loops\n",
    "    results = x  # collect the result at each iteration into results\n",
    "    \n",
    "    for k in range(int(max_iter)):\n",
    "        x = x - gamma*df(A,b,x)\n",
    "        results =np.row_stack((results,x))\n",
    "        if np.linalg.norm(x-results[k]) < stop_crit:\n",
    "            nbLoops = k+1\n",
    "            break\n",
    "\n",
    "    return results, nbLoops\n",
    "\n",
    "\n",
    "# Test algorithm\n",
    "resu_grad, nbLoops_grad = gradient_algo(f, df, A, b)\n",
    "resu_grad"
   ]
  },
  {
   "cell_type": "code",
   "execution_count": 6,
   "metadata": {},
   "outputs": [
    {
     "name": "stdout",
     "output_type": "stream",
     "text": [
      "Number of iterations with constant stepsize: 689\n"
     ]
    },
    {
     "data": {
      "text/plain": [
       "[<matplotlib.lines.Line2D at 0x7fd62ef231f0>]"
      ]
     },
     "execution_count": 6,
     "metadata": {},
     "output_type": "execute_result"
    },
    {
     "data": {
      "image/png": "[encoded data removed]",
      "text/plain": [
       "<Figure size 432x288 with 1 Axes>"
      ]
     },
     "metadata": {
      "needs_background": "light"
     },
     "output_type": "display_data"
    }
   ],
   "source": [
    "# plot results\n",
    "print('Number of iterations with constant stepsize: ' + str(nbLoops_grad))\n",
    "plt.figure()\n",
    "\n",
    "plt.scatter(opt[0], opt[1], facecolor='red')\n",
    "plt.plot(resu_grad[:,0],resu_grad[:,1])"
   ]
  },
  {
   "cell_type": "markdown",
   "metadata": {},
   "source": [
    "## <span style=\"color:#00B8DE\"> 1.2. Backtracking</span>\n",
    "> #### Input:  Set $0<\\alpha<1/2,\\,0 <\\beta<1,$ and $\\gamma =1$\n",
    "> #### Iterations:\n",
    ">> While  $f(x +\\gamma d) > f(x) + \\alpha \\gamma \\nabla f(x)^\\top d$\n",
    ">>> $\\gamma = \\beta \\gamma$  \n",
    "> #### Output: $ \\gamma$"
   ]
  },
  {
   "cell_type": "markdown",
   "metadata": {},
   "source": [
    "#### Question 5: Implement Backtracking algorithm  "
   ]
  },
  {
   "cell_type": "code",
   "execution_count": 167,
   "metadata": {},
   "outputs": [],
   "source": [
    "# Backtracking\n",
    "#-------------\n",
    "def backtracking(x, f, df, d, A, b):\n",
    "    \"\"\"\n",
    "    bactracking: \n",
    "    see e.g. https://web.stanford.edu/~boyd/cvxbook/bv_cvxbook.pdf - p.464\n",
    "    IN:\n",
    "    ---\n",
    "    x: initial point\n",
    "    f, df: function to be minimized and its gradient\n",
    "    d: searc direction\n",
    "    OUT:\n",
    "    ----\n",
    "    t: coefficient of the good direction\n",
    "    n: number of loops\n",
    "    \"\"\"\n",
    "    t=1\n",
    "    np.random.seed(10)\n",
    "    #alpha=0.25\n",
    "    #beta=0.7\n",
    "    alpha=np.random.uniform(0,0.5)\n",
    "    beta=np.random.uniform(0,1)\n",
    "    n=1\n",
    "    while ( f(A,b,(x + t*d))> f(A,b,x)+alpha*t*(df(A,b,x).T)@d):\n",
    "        t=beta * t # Implique que le beta ne doit pas etre trop petit\n",
    "        n+=1\n",
    "    return t, n\n"
   ]
  },
  {
   "cell_type": "markdown",
   "metadata": {},
   "source": [
    "#### Question 6: Implement Gradient algorithm with backtracking to minimize $f(x)$ and compare results to gradient algorithm without backtracking."
   ]
  },
  {
   "cell_type": "code",
   "execution_count": 168,
   "metadata": {},
   "outputs": [
    {
     "data": {
      "text/plain": [
       "array([[ 0.        ,  0.        ],\n",
       "       [-0.02075195, -0.02075195],\n",
       "       [-0.04107326, -0.03978133],\n",
       "       [-0.06097285, -0.05723111],\n",
       "       [-0.0804595 , -0.07323243],\n",
       "       [-0.09954176, -0.08790552],\n",
       "       [-0.11822802, -0.10136063],\n",
       "       [-0.13652651, -0.11369885],\n",
       "       [-0.15444527, -0.12501291],\n",
       "       [-0.17199217, -0.13538781],\n",
       "       [-0.18917495, -0.14490152],\n",
       "       [-0.20600115, -0.15362551],\n",
       "       [-0.22247818, -0.16162535],\n",
       "       [-0.23861327, -0.16896113],\n",
       "       [-0.25441353, -0.17568799],\n",
       "       [-0.2698859 , -0.18185647],\n",
       "       [-0.28503719, -0.18751291],\n",
       "       [-0.29987406, -0.19269983],\n",
       "       [-0.31440304, -0.19745619],\n",
       "       [-0.32863051, -0.20181773],\n",
       "       [-1.        , -0.3945468 ],\n",
       "       [-1.        , -0.38254829],\n",
       "       [-1.        , -0.37154575],\n",
       "       [-1.        , -0.3614565 ],\n",
       "       [-1.        , -0.35220474],\n",
       "       [-1.        , -0.34372095],\n",
       "       [-1.        , -0.33594138],\n",
       "       [-1.        , -0.32880758],\n",
       "       [-1.        , -0.32226593],\n",
       "       [-1.        , -0.3162673 ],\n",
       "       [-1.        , -0.3107666 ],\n",
       "       [-1.        , -0.30572249],\n",
       "       [-1.        , -0.30109709],\n",
       "       [-1.        , -0.29685564],\n",
       "       [-1.        , -0.29296625],\n",
       "       [-1.        , -0.28939972],\n",
       "       [-1.        , -0.28612923],\n",
       "       [-1.        , -0.28313023],\n",
       "       [-1.        , -0.28038016],\n",
       "       [-1.        , -0.27785837],\n",
       "       [-1.        , -0.27554591],\n",
       "       [-1.        , -0.2734254 ],\n",
       "       [-1.        , -0.27148091],\n",
       "       [-1.        , -0.26969782],\n",
       "       [-1.        , -0.26806275],\n",
       "       [-1.        , -0.2665634 ],\n",
       "       [-1.        , -0.26518851],\n",
       "       [-1.        , -0.26392775],\n",
       "       [-1.        , -0.26277163],\n",
       "       [-1.        , -0.26171149],\n",
       "       [-1.        , -0.26073934],\n",
       "       [-1.        , -0.25984789],\n",
       "       [-1.        , -0.25903044],\n",
       "       [-1.        , -0.25828085],\n",
       "       [-1.        , -0.25759347],\n",
       "       [-1.        , -0.25696315],\n",
       "       [-1.        , -0.25638516],\n",
       "       [-1.        , -0.25585514],\n",
       "       [-1.        , -0.25536912],\n",
       "       [-1.        , -0.25492344],\n",
       "       [-1.        , -0.25451475],\n",
       "       [-1.        , -0.25414   ],\n",
       "       [-1.        , -0.25379634],\n",
       "       [-1.        , -0.25348122],\n",
       "       [-1.        , -0.25319225],\n",
       "       [-1.        , -0.25292727],\n",
       "       [-1.        , -0.25268428],\n",
       "       [-1.        , -0.25246147],\n",
       "       [-1.        , -0.25225714],\n",
       "       [-1.        , -0.25206978],\n",
       "       [-1.        , -0.25189798],\n",
       "       [-1.        , -0.25174043],\n",
       "       [-1.        , -0.25159596],\n",
       "       [-1.        , -0.25146348],\n",
       "       [-1.        , -0.251342  ],\n",
       "       [-1.        , -0.25123061],\n",
       "       [-1.        , -0.25112846],\n",
       "       [-1.        , -0.25103478],\n",
       "       [-1.        , -0.25094889],\n",
       "       [-1.        , -0.25087012],\n",
       "       [-1.        , -0.2507979 ],\n",
       "       [-1.        , -0.25073167],\n",
       "       [-1.        , -0.25067093],\n",
       "       [-1.        , -0.25061524],\n",
       "       [-1.        , -0.25056417],\n",
       "       [-1.        , -0.25051734],\n",
       "       [-1.        , -0.2504744 ],\n",
       "       [-1.        , -0.25043502],\n",
       "       [-1.        , -0.25039891],\n",
       "       [-1.        , -0.2503658 ],\n",
       "       [-1.        , -0.25033543],\n",
       "       [-1.        , -0.25030759],\n",
       "       [-1.        , -0.25028206],\n",
       "       [-1.        , -0.25025864],\n",
       "       [-1.        , -0.25023717],\n",
       "       [-1.        , -0.25021749],\n",
       "       [-1.        , -0.25019943],\n",
       "       [-1.        , -0.25018288],\n",
       "       [-1.        , -0.2501677 ],\n",
       "       [-1.        , -0.25015378],\n",
       "       [-1.        , -0.25014101],\n",
       "       [-1.        , -0.25012931],\n",
       "       [-1.        , -0.25011857],\n",
       "       [-1.        , -0.25010873]])"
      ]
     },
     "execution_count": 168,
     "metadata": {},
     "output_type": "execute_result"
    }
   ],
   "source": [
    "# gradient descent with backtracking\n",
    "\n",
    "def gradient_algo2(f, df, A, b, init = np.array([0,0]) , stop_crit =1.e-5, max_iter = 10e4, xopt=opt, gamma = .01):\n",
    "# Constant stepsize\n",
    "    x         = init\n",
    "    nbLoops   = 0 # number of loops\n",
    "    nbLoops_inter = 0 # number of inner loops count for backtracking\n",
    "    results = x  # cellect the result at each iteration into results\n",
    "        \n",
    "    for k in range(int(max_iter)):\n",
    "        delta_x = -df(A,b,x)\n",
    "        t,nbLoops_inter = backtracking(x, f, df, delta_x, A, b)\n",
    "        x = x + t * delta_x\n",
    "        results =np.row_stack((results,x))\n",
    "        if np.linalg.norm(x-results[k]) < stop_crit:\n",
    "            nbLoops = k+1\n",
    "            break\n",
    "    \n",
    "    \n",
    "    return results, nbLoops, nbLoops_inter\n",
    "\n",
    "\n",
    "# Test algorithm\n",
    "resu_grad2, nbLoops_grad2, nbLoops_inter_grad2 = gradient_algo2(f, df, A, b)\n",
    "resu_grad2"
   ]
  },
  {
   "cell_type": "code",
   "execution_count": 169,
   "metadata": {},
   "outputs": [
    {
     "name": "stdout",
     "output_type": "stream",
     "text": [
      "Number of inner loops for backtracking: 2\n",
      "Number of iterations for backtracking: 103\n"
     ]
    },
    {
     "data": {
      "text/plain": [
       "[<matplotlib.lines.Line2D at 0x7fd62e449190>]"
      ]
     },
     "execution_count": 169,
     "metadata": {},
     "output_type": "execute_result"
    },
    {
     "data": {
      "image/png": "[encoded data removed]",
      "text/plain": [
       "<Figure size 432x288 with 1 Axes>"
      ]
     },
     "metadata": {
      "needs_background": "light"
     },
     "output_type": "display_data"
    }
   ],
   "source": [
    "print('Number of inner loops for backtracking: ' + str(nbLoops_inter_grad2))\n",
    "print('Number of iterations for backtracking: ' + str(nbLoops_grad2))\n",
    "\n",
    "plt.figure()\n",
    "\n",
    "plt.scatter(opt[0], opt[1], facecolor='red')\n",
    "plt.plot(resu_grad2[:,0],resu_grad2[:,1])\n",
    "# Le nombre d'itérations est beaucoup plus faible quand on combine le bactracking et la descente de gradient que lorsque l'on utilise uniquement la descente de gradient."
   ]
  },
  {
   "cell_type": "markdown",
   "metadata": {},
   "source": [
    "## <span style=\"color:#00B8DE\"> 1.3. Newton algorithm</span>\n",
    "> #### Input:  Set $\\text{maxIter} = 10^4, \\text{stop} = 1e-5, x_0, \\gamma_k$\n",
    "> #### Iterations:\n",
    ">> $ \\text{For } k = 1, 2, \\ldots, \\text{maxIter}$\n",
    ">>> $x_{k+1} = x_k - \\gamma_k [\\nabla^2 f(x_k)]^{-1} \\nabla f(x_k)$  <br> \n",
    ">>>$ \\text{If }\\|x_{k+1} - x_k\\| < \\text{stop}$\n",
    ">>>> nbIter = $i$ <br>\n",
    ">>>> break\n",
    "> #### Output: $ \\hat{x} = x_{k+1}$"
   ]
  },
  {
   "cell_type": "markdown",
   "metadata": {},
   "source": [
    "#### Question 7: Implement Newton algorithm with backtracking to minimize $f(x)$ and compare results to gradient algorithm with backtracking."
   ]
  },
  {
   "cell_type": "code",
   "execution_count": 127,
   "metadata": {},
   "outputs": [],
   "source": [
    "def d2f(A,b,x):\n",
    "    return (A)\n",
    "\n",
    "def newton_algo(f, df, d2f, A, b, init = np.array([0,0]) , stop_crit =1.e-5, max_iter = 10e4, xopt=opt):\n",
    "     \n",
    "    x = init\n",
    "    nbLoops   = 0 # number of loops\n",
    "    nbLoops_inter = 0 # number of inner loops count for backtracking\n",
    "    results = x  # cellect the result at each iteration into results\n",
    "\n",
    "    for k in range(1,int(max_iter)):\n",
    "        delta_x = -df(A,b,x)\n",
    "        t,nbLoops_inter = backtracking(x, f, df, delta_x, A, b)\n",
    "        x = x + t * np.linalg.inv(d2f(A,b,x))@delta_x\n",
    "        results =np.row_stack((results,x))\n",
    "        if np.linalg.norm(x-results[k-1]) < stop_crit:\n",
    "            nbLoops = k\n",
    "            break        \n",
    "   \n",
    "    \n",
    "    return results, nbLoops, nbLoops_inter\n",
    "\n",
    "# test algo \n",
    "\n",
    "resu_newton, nbLoops_newton, nbLoops_inter_newton  = newton_algo(f, df, d2f, A,b)"
   ]
  },
  {
   "cell_type": "code",
   "execution_count": 128,
   "metadata": {},
   "outputs": [
    {
     "name": "stdout",
     "output_type": "stream",
     "text": [
      "Newton: Number of inner loops for backtracking: 2\n",
      "Newton: Number of iterations for backtracking: 20\n"
     ]
    },
    {
     "data": {
      "text/plain": [
       "[<matplotlib.lines.Line2D at 0x7fd62e704f70>]"
      ]
     },
     "execution_count": 128,
     "metadata": {},
     "output_type": "execute_result"
    },
    {
     "data": {
      "image/png": "[encoded data removed]",
      "text/plain": [
       "<Figure size 432x288 with 1 Axes>"
      ]
     },
     "metadata": {
      "needs_background": "light"
     },
     "output_type": "display_data"
    }
   ],
   "source": [
    "print('Newton: Number of inner loops for backtracking: ' + str(nbLoops_inter_newton))\n",
    "print('Newton: Number of iterations for backtracking: ' + str(nbLoops_newton))\n",
    "\n",
    "plt.figure()\n",
    "\n",
    "plt.scatter(opt[0], opt[1], facecolor='red')\n",
    "plt.plot(resu_newton[:,0],resu_newton[:,1])"
   ]
  },
  {
   "cell_type": "markdown",
   "metadata": {},
   "source": [
    "# <span style=\"color:#00B8DE\"> 2. Constrained optimization</span>\n",
    "Let consider function $f(x) = \\frac{1}{2} x^\\top A x + x^\\top b$ where $A = [1,0; 0,4]$ and $b = [1,1]$. \n"
   ]
  },
  {
   "cell_type": "markdown",
   "metadata": {},
   "source": [
    "## <span style=\"color:#00B8DE\"> 2.1 Newton algorithm with equality constraints</span>\n",
    "### To solve the problem: $\\min_{x} \\; f(x)$ s.t. $Dx = e$\n",
    "> #### Input:  Set $\\text{maxIter} = 10^4, \\text{stop} = 1e-5, x_0 $ s.t. $Dx_0 =e$ \n",
    "> #### Iterations:\n",
    ">> $\\text{For } k = 1, 2, \\ldots, \\text{maxIter}$\n",
    ">>> #### Find $h$ and $\\rho$ s.t. <br>\n",
    ">>>> $\\begin{bmatrix}\\nabla^2 f(x_k) & D^\\top \\\\ D& 0 \\end{bmatrix} \\times \\begin{bmatrix}h\\\\ \\lambda \\end{bmatrix} =  \\begin{bmatrix} -\\nabla f(x_k) \\\\ e - Dx_k\\end{bmatrix}$<br> \n",
    ">>>> $\\rho = \\text{argmin}_{\\rho} \\; f(x_k +\\rho h)$ <br>\n",
    ">>> #### $x_{k+1} = x_k + \\rho h$ <br>\n",
    ">>> $\\text{If } \\|x_{k+1} - x_k\\| < \\text{stop}$\n",
    ">>>> nbIter = $i$ <br>\n",
    ">>>> break\n",
    "> #### Output: $ \\hat{x} = x_{k+1}$"
   ]
  },
  {
   "cell_type": "markdown",
   "metadata": {},
   "source": [
    "#### Question 8: Implement Newton algorithm to solve the following problem:  $\\text{minimize}_{x\\in \\mathbb{R}^2}\\;f(x)$  such that  $ Dx = e$ with $D = [1,-2]$ and $e = 0$. "
   ]
  },
  {
   "cell_type": "code",
   "execution_count": 129,
   "metadata": {},
   "outputs": [],
   "source": [
    "# Newton algo for optimization with equality constraints\n",
    "\n",
    "def Newton_algo2(f, df, d2f, A, b, D,e, init = np.array([0.5, 0.3]), stop_crit = 1e-7, maxIter = int(10e5)  ):\n",
    "        \n",
    "    x = init\n",
    "    \n",
    "    nbLoops   = 0 # number of loops\n",
    "    nbLoops_inter = 0 # number of inner loops count for backtracking\n",
    "    results = x  # cellect the result at each iteration into results\n",
    "    \n",
    "    for k in range(1,int(maxIter)):\n",
    "        #delta_x = -df(A,b,x)\n",
    "        #t,nbLoops_inter = backtracking(x, f, df, delta_x, A, b)\n",
    "        \n",
    "        zeros=np.zeros((1,len(D)))\n",
    "        \n",
    "        inter=np.column_stack((d2f(A,b,x), D.T))\n",
    "        inter=np.row_stack((inter,np.insert(D, len(D), 0)))\n",
    "        inter_result=np.insert(-df(A,b,x),len(df(A,b,x)),(e-(D.T)@x))\n",
    "\n",
    "        inv = np.linalg.inv(inter)\n",
    "        inconnu=np.linalg.inv(inter)@inter_result\n",
    "        #inconnu=np.linalg.solve(inter,inter_result)\n",
    "        h=inconnu[:len(x)]\n",
    "        \n",
    "        rho,nbLoops_inter=backtracking(x, f, df, h, A, b)\n",
    "        \n",
    "        x = x + rho * h\n",
    "        results =np.row_stack((results,x))\n",
    "        if np.linalg.norm(x-results[k-1]) < stop_crit:\n",
    "            nbLoops = k\n",
    "            break\n",
    "    \n",
    "    \n",
    "     \n",
    "        \n",
    "    return results, nbLoops, nbLoops_inter\n",
    "\n",
    "# test algo\n",
    "D=np.array([1,-2])\n",
    "e=0\n",
    "resu_newton2, nbLoops_newton2, nbLoop_inner_newton2 = Newton_algo2(f, df, d2f, A, b, D,e)"
   ]
  },
  {
   "cell_type": "code",
   "execution_count": 130,
   "metadata": {},
   "outputs": [
    {
     "name": "stdout",
     "output_type": "stream",
     "text": [
      "Newton2: Number of inner loops for backtracking: 1\n",
      "Newton2: Number of iterations for backtracking: 2\n"
     ]
    },
    {
     "data": {
      "text/plain": [
       "[<matplotlib.lines.Line2D at 0x7fd62e674b80>]"
      ]
     },
     "execution_count": 130,
     "metadata": {},
     "output_type": "execute_result"
    },
    {
     "data": {
      "image/png": "[encoded data removed]",
      "text/plain": [
       "<Figure size 432x288 with 1 Axes>"
      ]
     },
     "metadata": {
      "needs_background": "light"
     },
     "output_type": "display_data"
    }
   ],
   "source": [
    "print('Newton2: Number of inner loops for backtracking: ' + str(nbLoop_inner_newton2))\n",
    "print('Newton2: Number of iterations for backtracking: ' + str(nbLoops_newton2))\n",
    "\n",
    "\n",
    "plt.figure()\n",
    " \n",
    "plt.scatter(opt[0], opt[1], facecolor='red')\n",
    "plt.scatter(resu_newton2[-1,0], resu_newton2[-1,1], facecolor='black')\n",
    "plt.plot(resu_newton2[:,0],resu_newton2[:,1])"
   ]
  },
  {
   "cell_type": "markdown",
   "metadata": {},
   "source": [
    "## <span style=\"color:#00B8DE\"> 2.2 Log-barrier algorithm</span>\n",
    "### To solve the problem: $\\min_{x\\in \\mathbb{R}^n} \\; f(x)$ s.t. $Dx = e$ with $D\\in R^{m\\times n}, e\\in R^m$,  and $g_i(x)\\leq 0,\\;\\forall i = 1,\\cdots, p $ <br>\n",
    "#### Let $\\varphi(x) = -\\sum_{i=1}^m\\log[-g_i(x)] $ and considering the problem $\\min_{x} \\; F(x)$ s.t. $Dx = e$ with $F(x) = t . f(x) + \\varphi(x) $ <br>\n",
    "> #### Input:  Set $maxIter = 10^4, stop = 1e-5, t>0, \\alpha>1$ and set $x_0$ such that\n",
    "$Dx_0=e$ and $g_i(x_0) \\leq 0,\\;\\forall i = 1,\\cdots, p$.\n",
    "> #### Iterations:\n",
    ">> $\\text{For } k = 1, 2, \\ldots, \\text{maxIter}$\n",
    ">>> #### Find $h$ and $\\rho$ s.t. <br>\n",
    ">>>> $\\begin{bmatrix}\\nabla^2 F(x_k) & D^\\top \\\\ D& 0 \\end{bmatrix} \\times \\begin{bmatrix}h\\\\ \\lambda \\end{bmatrix} =  \\begin{bmatrix} -\\nabla F(x_k) \\\\ e - Dx_k\\end{bmatrix}$<br> \n",
    ">>>> #### while $\\exists i\\in [1,\\ldots,m] :\\; g_i(x_k + h) >0 $  \n",
    ">>>>>####            $h = 0.5  h$ \n",
    ">>>> #### $\\rho = \\text{argmin}_{\\rho} \\; F(x_k +\\rho h)$ <br>\n",
    ">>> #### $x_{k+1} = x_k + \\rho h$  \n",
    ">>> $\\text{If } \\frac{m}{t} < \\text{stop}$\n",
    ">>>> nbIter = $i$ <br>\n",
    ">>>> break <br>\n",
    ">>>#### $t= \\alpha t$ <br>\n",
    "> #### Output: $ \\hat{x} = x_{k+1}$\n",
    " "
   ]
  },
  {
   "cell_type": "markdown",
   "metadata": {},
   "source": [
    "#### Question 9: : Implement Log-barrier algorithm to minimize $f(x)$ such that $x \\in\\{x \\succeq 0 : \\; Dx = e\\}$."
   ]
  },
  {
   "cell_type": "code",
   "execution_count": 148,
   "metadata": {},
   "outputs": [],
   "source": [
    "def F(A, b, t, x):\n",
    "    return (t*f(A,b,x) - np.sum(np.log(x)))\n",
    "\n",
    "def dF(A, b, t, x):\n",
    "    return (t*df(A,b,x) - np.sum((1/x)))\n",
    "\n",
    "def d2F(A, b , t, x):\n",
    "    return (t*d2f(A,b,x) - np.sum(-(1/(x**2))))"
   ]
  },
  {
   "cell_type": "code",
   "execution_count": 156,
   "metadata": {},
   "outputs": [],
   "source": [
    "# Backtracking\n",
    "#-------------\n",
    "def backtracking2(x,F,dF,d, A, b, t):\n",
    "    \"\"\"\n",
    "    bactracking: \n",
    "    see e.g. https://web.stanford.edu/~boyd/cvxbook/bv_cvxbook.pdf - p.464\n",
    "    IN:\n",
    "    ---\n",
    "    x: initial point\n",
    "    F, dF: function to be minimized and its gradient\n",
    "    ...\n",
    "    d: searc direction\n",
    "    OUT:\n",
    "    ----\n",
    "    rho: good direction\n",
    "    n: number of loops\n",
    "    \"\"\"   \n",
    "    #np.random.seed(100)\n",
    "    #alpha=0.25\n",
    "    #beta=0.7\n",
    "    rho=1\n",
    "    alpha=np.random.uniform(0,0.5)\n",
    "    beta=np.random.uniform(0,1)\n",
    "    n=1\n",
    "    while ( F(A,b,t,(x + rho*d))> F(A,b,t,x)+alpha*rho*(dF(A,b,t,x).T)@d):\n",
    "        rho=beta * rho # Implique que le beta ne doit pas etre trop petit\n",
    "        n+=1\n",
    "     \n",
    "    return rho, n\n"
   ]
  },
  {
   "cell_type": "code",
   "execution_count": 157,
   "metadata": {},
   "outputs": [],
   "source": [
    "def Log_barrier_algo(F, dF, d2F, A, b, D, e, init = np.array([0.5, 0.3]), stop_crit = 1e-7, maxIter = int(10e5)):\n",
    "    \n",
    "     \n",
    "    x = init \n",
    "    \n",
    "    t = 2\n",
    "    alpha = 1.5\n",
    "    nbLoops = 0 \n",
    "    nbLoops_inner = 0\n",
    "    \n",
    "    results = x      \n",
    "    \n",
    "    for k in range(1,int(maxIter)):\n",
    "        m=len(D)\n",
    "        \n",
    "        zeros=np.zeros((1,len(D)))\n",
    "        \n",
    "        inter=np.column_stack((d2f(A,b,x), D.T))\n",
    "        inter=np.row_stack((inter,np.insert(D, len(D), 0)))\n",
    "        inter_result=np.insert(-df(A,b,x),len(df(A,b,x)),(e-(D.T)@x))\n",
    "\n",
    "        inv = np.linalg.inv(inter)\n",
    "        inconnu=np.linalg.inv(inter)@inter_result\n",
    "        h=inconnu[:len(x)]\n",
    "        \n",
    "        \n",
    "        while ((-x[0]-h[0])>0 or (-x[1]-h[1])>0 ):\n",
    "            h = 0.5 * h\n",
    "            \n",
    "        \n",
    "        rho,nbLoops_inter=backtracking2(x, F, dF, h, A, b,t)\n",
    "        \n",
    "        x = x + rho * h\n",
    "        results =np.row_stack((results,x))\n",
    "        if (m/t) < stop_crit:\n",
    "            nbLoops = k\n",
    "            break\n",
    "            \n",
    "        t=alpha*t\n",
    "    \n",
    "    \n",
    "     \n",
    "     \n",
    "    return results, nbLoops, nbLoops_inner\n",
    "\n",
    "#test algo \n",
    " \n",
    "resu_log, nbLoops_log, nbLoops_inner_log  = Log_barrier_algo(F, dF, d2F, A, b, D, e)\n",
    "\n",
    "    "
   ]
  },
  {
   "cell_type": "code",
   "execution_count": 158,
   "metadata": {},
   "outputs": [
    {
     "name": "stdout",
     "output_type": "stream",
     "text": [
      "Log Barrier: Number of inner loops for backtracking: 0\n",
      "Log Barrier: Number of iterations for backtracking: 41\n"
     ]
    },
    {
     "data": {
      "text/plain": [
       "[<matplotlib.lines.Line2D at 0x7fd62e563fa0>]"
      ]
     },
     "execution_count": 158,
     "metadata": {},
     "output_type": "execute_result"
    },
    {
     "data": {
      "image/png": "[encoded data removed]",
      "text/plain": [
       "<Figure size 432x288 with 1 Axes>"
      ]
     },
     "metadata": {
      "needs_background": "light"
     },
     "output_type": "display_data"
    }
   ],
   "source": [
    " \n",
    "# figure\n",
    "\n",
    "print('Log Barrier: Number of inner loops for backtracking: ' + str(nbLoops_inner_log))\n",
    "print('Log Barrier: Number of iterations for backtracking: ' + str(nbLoops_log))\n",
    "\n",
    "plt.figure()\n",
    " \n",
    "plt.scatter(opt[0], opt[1], facecolor='red')\n",
    "plt.scatter(resu_log[-1,0], resu_log[-1,1], facecolor='black')\n",
    "\n",
    "plt.plot(resu_log[:,0],resu_log[:,1])\n",
    "\n",
    " "
   ]
  },
  {
   "cell_type": "markdown",
   "metadata": {},
   "source": [
    "# <span style=\"color:#00B8DE\"> 3. Application to solve the SVM problem (Bonus)</span>\n",
    "#### Question 10: Use the Log-barrier algorithm to solve the optimization problem for SVM problem in TP1 \n"
   ]
  },
  {
   "cell_type": "code",
   "execution_count": null,
   "metadata": {},
   "outputs": [],
   "source": []
  }
 ],
 "metadata": {
  "kernelspec": {
   "display_name": "Python 3",
   "language": "python",
   "name": "python3"
  },
  "language_info": {
   "codemirror_mode": {
    "name": "ipython",
    "version": 3
   },
   "file_extension": ".py",
   "mimetype": "text/x-python",
   "name": "python",
   "nbconvert_exporter": "python",
   "pygments_lexer": "ipython3",
   "version": "3.8.10"
  }
 },
 "nbformat": 4,
 "nbformat_minor": 2
}
